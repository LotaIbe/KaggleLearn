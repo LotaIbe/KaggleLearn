{
 "cells": [
  {
   "cell_type": "markdown",
   "metadata": {},
   "source": [
    "## Introduction\n",
    "In this tutorial, you'll learn how to create interactive maps with the **folium** package. Along the way, you'll apply your new skills to visualize Boston crime data."
   ]
  },
  {
   "cell_type": "markdown",
   "metadata": {},
   "source": [
    "### Import necessary libraries and packages"
   ]
  },
  {
   "cell_type": "code",
   "execution_count": 21,
   "metadata": {},
   "outputs": [],
   "source": [
    "import pandas as pd\n",
    "import geopandas as gpd\n",
    "import math"
   ]
  },
  {
   "cell_type": "code",
   "execution_count": 22,
   "metadata": {},
   "outputs": [],
   "source": [
    "import folium\n",
    "from folium import Choropleth, Circle, Marker\n",
    "from folium.plugins import HeatMap, MarkerCluster"
   ]
  },
  {
   "cell_type": "markdown",
   "metadata": {},
   "source": [
    "We define a function `embed_map()` for displaying interactive maps. It accepts two arguments: the variable containing the map, and the name of the HTML file where the map will be saved.\n",
    "\n",
    "This function ensures that the maps are visible in all web browsers."
   ]
  },
  {
   "cell_type": "code",
   "execution_count": 23,
   "metadata": {},
   "outputs": [],
   "source": [
    "# Function for displaying the map\n",
    "def embed_map(m, file_name):\n",
    "    from IPython.display import IFrame\n",
    "    m.save(file_name)\n",
    "    return IFrame(file_name, width='100%', height='500px')"
   ]
  },
  {
   "cell_type": "markdown",
   "metadata": {},
   "source": [
    "### Your first interactive map\n",
    "We begin by creating a relatively simple map with `folium.Map()`."
   ]
  },
  {
   "cell_type": "code",
   "execution_count": 24,
   "metadata": {},
   "outputs": [
    {
     "data": {
      "text/html": [
       "\n",
       "        <iframe\n",
       "            width=\"100%\"\n",
       "            height=\"500px\"\n",
       "            src=\"m_1.html\"\n",
       "            frameborder=\"0\"\n",
       "            allowfullscreen\n",
       "        ></iframe>\n",
       "        "
      ],
      "text/plain": [
       "<IPython.lib.display.IFrame at 0x11f03c128>"
      ]
     },
     "execution_count": 24,
     "metadata": {},
     "output_type": "execute_result"
    }
   ],
   "source": [
    "# Create a map\n",
    "m_1 = folium.Map(location=[42.32,-71.0589], tiles='openstreetmap', zoom_start=15)\n",
    "\n",
    "# Display the map\n",
    "embed_map(m_1, 'm_1.html')"
   ]
  },
  {
   "cell_type": "markdown",
   "metadata": {},
   "source": [
    "Several arguments customize the appearance of the map:\n",
    "\n",
    "- location sets the initial center of the map. We use the latitude (42.32° N) and longitude (-71.0589° E) of the city of Boston.\n",
    "- tiles changes the styling of the map; in this case, we choose the OpenStreetMap style. If you're curious, you can find the other options listed here.\n",
    "- zoom_start sets the initial level of zoom of the map, where higher values zoom in closer to the map.\n",
    "\n",
    "Take the time now to explore by zooming in and out, or by dragging the map in different directions."
   ]
  },
  {
   "cell_type": "markdown",
   "metadata": {},
   "source": [
    "## The data\n",
    "Now, we'll add some crime data to the map!\n",
    "\n",
    "We won't focus on the data loading step. Instead, you can imagine you are at a point where you already have the data in a pandas DataFrame crimes. The first five rows of the data are shown below."
   ]
  },
  {
   "cell_type": "code",
   "execution_count": 25,
   "metadata": {},
   "outputs": [],
   "source": [
    "# Load the data\n",
    "crimes = pd.read_csv(\"geospatial-learn-course-data/crimes-in-boston/crimes-in-boston/crime.csv\", encoding='latin-1')\n",
    "\n",
    "# Drop rows with missing locations\n",
    "crimes.dropna(subset=['Lat', 'Long', 'DISTRICT'], inplace=True)\n",
    "\n",
    "# Focus on major crimes in 2018\n",
    "crimes = crimes[crimes.OFFENSE_CODE_GROUP.isin([\n",
    "    'Larceny', 'Auto Theft', 'Robbery', 'Larceny From Motor Vehicle', 'Residential Burglary',\n",
    "    'Simple Assault', 'Harassment', 'Ballistics', 'Aggravated Assault', 'Other Burglary', \n",
    "    'Arson', 'Commercial Burglary', 'HOME INVASION', 'Homicide', 'Criminal Harassment', \n",
    "    'Manslaughter'])]\n",
    "crimes = crimes[crimes.YEAR>=2018]\n"
   ]
  },
  {
   "cell_type": "code",
   "execution_count": 26,
   "metadata": {},
   "outputs": [
    {
     "data": {
      "text/html": [
       "<div>\n",
       "<style scoped>\n",
       "    .dataframe tbody tr th:only-of-type {\n",
       "        vertical-align: middle;\n",
       "    }\n",
       "\n",
       "    .dataframe tbody tr th {\n",
       "        vertical-align: top;\n",
       "    }\n",
       "\n",
       "    .dataframe thead th {\n",
       "        text-align: right;\n",
       "    }\n",
       "</style>\n",
       "<table border=\"1\" class=\"dataframe\">\n",
       "  <thead>\n",
       "    <tr style=\"text-align: right;\">\n",
       "      <th></th>\n",
       "      <th>INCIDENT_NUMBER</th>\n",
       "      <th>OFFENSE_CODE</th>\n",
       "      <th>OFFENSE_CODE_GROUP</th>\n",
       "      <th>OFFENSE_DESCRIPTION</th>\n",
       "      <th>DISTRICT</th>\n",
       "      <th>REPORTING_AREA</th>\n",
       "      <th>SHOOTING</th>\n",
       "      <th>OCCURRED_ON_DATE</th>\n",
       "      <th>YEAR</th>\n",
       "      <th>MONTH</th>\n",
       "      <th>DAY_OF_WEEK</th>\n",
       "      <th>HOUR</th>\n",
       "      <th>UCR_PART</th>\n",
       "      <th>STREET</th>\n",
       "      <th>Lat</th>\n",
       "      <th>Long</th>\n",
       "      <th>Location</th>\n",
       "    </tr>\n",
       "  </thead>\n",
       "  <tbody>\n",
       "    <tr>\n",
       "      <th>0</th>\n",
       "      <td>I182070945</td>\n",
       "      <td>619</td>\n",
       "      <td>Larceny</td>\n",
       "      <td>LARCENY ALL OTHERS</td>\n",
       "      <td>D14</td>\n",
       "      <td>808</td>\n",
       "      <td>NaN</td>\n",
       "      <td>2018-09-02 13:00:00</td>\n",
       "      <td>2018</td>\n",
       "      <td>9</td>\n",
       "      <td>Sunday</td>\n",
       "      <td>13</td>\n",
       "      <td>Part One</td>\n",
       "      <td>LINCOLN ST</td>\n",
       "      <td>42.357791</td>\n",
       "      <td>-71.139371</td>\n",
       "      <td>(42.35779134, -71.13937053)</td>\n",
       "    </tr>\n",
       "    <tr>\n",
       "      <th>6</th>\n",
       "      <td>I182070933</td>\n",
       "      <td>724</td>\n",
       "      <td>Auto Theft</td>\n",
       "      <td>AUTO THEFT</td>\n",
       "      <td>B2</td>\n",
       "      <td>330</td>\n",
       "      <td>NaN</td>\n",
       "      <td>2018-09-03 21:25:00</td>\n",
       "      <td>2018</td>\n",
       "      <td>9</td>\n",
       "      <td>Monday</td>\n",
       "      <td>21</td>\n",
       "      <td>Part One</td>\n",
       "      <td>NORMANDY ST</td>\n",
       "      <td>42.306072</td>\n",
       "      <td>-71.082733</td>\n",
       "      <td>(42.30607218, -71.08273260)</td>\n",
       "    </tr>\n",
       "    <tr>\n",
       "      <th>8</th>\n",
       "      <td>I182070931</td>\n",
       "      <td>301</td>\n",
       "      <td>Robbery</td>\n",
       "      <td>ROBBERY - STREET</td>\n",
       "      <td>C6</td>\n",
       "      <td>177</td>\n",
       "      <td>NaN</td>\n",
       "      <td>2018-09-03 20:48:00</td>\n",
       "      <td>2018</td>\n",
       "      <td>9</td>\n",
       "      <td>Monday</td>\n",
       "      <td>20</td>\n",
       "      <td>Part One</td>\n",
       "      <td>MASSACHUSETTS AVE</td>\n",
       "      <td>42.331521</td>\n",
       "      <td>-71.070853</td>\n",
       "      <td>(42.33152148, -71.07085307)</td>\n",
       "    </tr>\n",
       "    <tr>\n",
       "      <th>19</th>\n",
       "      <td>I182070915</td>\n",
       "      <td>614</td>\n",
       "      <td>Larceny From Motor Vehicle</td>\n",
       "      <td>LARCENY THEFT FROM MV - NON-ACCESSORY</td>\n",
       "      <td>B2</td>\n",
       "      <td>181</td>\n",
       "      <td>NaN</td>\n",
       "      <td>2018-09-02 18:00:00</td>\n",
       "      <td>2018</td>\n",
       "      <td>9</td>\n",
       "      <td>Sunday</td>\n",
       "      <td>18</td>\n",
       "      <td>Part One</td>\n",
       "      <td>SHIRLEY ST</td>\n",
       "      <td>42.325695</td>\n",
       "      <td>-71.068168</td>\n",
       "      <td>(42.32569490, -71.06816778)</td>\n",
       "    </tr>\n",
       "    <tr>\n",
       "      <th>24</th>\n",
       "      <td>I182070908</td>\n",
       "      <td>522</td>\n",
       "      <td>Residential Burglary</td>\n",
       "      <td>BURGLARY - RESIDENTIAL - NO FORCE</td>\n",
       "      <td>B2</td>\n",
       "      <td>911</td>\n",
       "      <td>NaN</td>\n",
       "      <td>2018-09-03 18:38:00</td>\n",
       "      <td>2018</td>\n",
       "      <td>9</td>\n",
       "      <td>Monday</td>\n",
       "      <td>18</td>\n",
       "      <td>Part One</td>\n",
       "      <td>ANNUNCIATION RD</td>\n",
       "      <td>42.335062</td>\n",
       "      <td>-71.093168</td>\n",
       "      <td>(42.33506218, -71.09316781)</td>\n",
       "    </tr>\n",
       "  </tbody>\n",
       "</table>\n",
       "</div>"
      ],
      "text/plain": [
       "   INCIDENT_NUMBER  OFFENSE_CODE          OFFENSE_CODE_GROUP  \\\n",
       "0       I182070945           619                     Larceny   \n",
       "6       I182070933           724                  Auto Theft   \n",
       "8       I182070931           301                     Robbery   \n",
       "19      I182070915           614  Larceny From Motor Vehicle   \n",
       "24      I182070908           522        Residential Burglary   \n",
       "\n",
       "                      OFFENSE_DESCRIPTION DISTRICT REPORTING_AREA SHOOTING  \\\n",
       "0                      LARCENY ALL OTHERS      D14            808      NaN   \n",
       "6                              AUTO THEFT       B2            330      NaN   \n",
       "8                        ROBBERY - STREET       C6            177      NaN   \n",
       "19  LARCENY THEFT FROM MV - NON-ACCESSORY       B2            181      NaN   \n",
       "24      BURGLARY - RESIDENTIAL - NO FORCE       B2            911      NaN   \n",
       "\n",
       "       OCCURRED_ON_DATE  YEAR  MONTH DAY_OF_WEEK  HOUR  UCR_PART  \\\n",
       "0   2018-09-02 13:00:00  2018      9      Sunday    13  Part One   \n",
       "6   2018-09-03 21:25:00  2018      9      Monday    21  Part One   \n",
       "8   2018-09-03 20:48:00  2018      9      Monday    20  Part One   \n",
       "19  2018-09-02 18:00:00  2018      9      Sunday    18  Part One   \n",
       "24  2018-09-03 18:38:00  2018      9      Monday    18  Part One   \n",
       "\n",
       "               STREET        Lat       Long                     Location  \n",
       "0          LINCOLN ST  42.357791 -71.139371  (42.35779134, -71.13937053)  \n",
       "6         NORMANDY ST  42.306072 -71.082733  (42.30607218, -71.08273260)  \n",
       "8   MASSACHUSETTS AVE  42.331521 -71.070853  (42.33152148, -71.07085307)  \n",
       "19         SHIRLEY ST  42.325695 -71.068168  (42.32569490, -71.06816778)  \n",
       "24    ANNUNCIATION RD  42.335062 -71.093168  (42.33506218, -71.09316781)  "
      ]
     },
     "execution_count": 26,
     "metadata": {},
     "output_type": "execute_result"
    }
   ],
   "source": [
    "crimes.head()"
   ]
  },
  {
   "cell_type": "markdown",
   "metadata": {},
   "source": [
    "## Plotting points\n",
    "To reduce the amount of data we need to fit on the map, we'll (temporarily) confine our attention to daytime robberies."
   ]
  },
  {
   "cell_type": "code",
   "execution_count": 27,
   "metadata": {},
   "outputs": [],
   "source": [
    "daytime_robberies = crimes[((crimes.OFFENSE_CODE_GROUP == 'Robbery') & \\\n",
    "                            (crimes.HOUR.isin(range(9,18))))]"
   ]
  },
  {
   "cell_type": "markdown",
   "metadata": {},
   "source": [
    "## folium.Marker\n",
    "We add markers to the map with `folium.Marker()`. Each marker below corresponds to a different robbery."
   ]
  },
  {
   "cell_type": "code",
   "execution_count": 28,
   "metadata": {},
   "outputs": [
    {
     "data": {
      "text/html": [
       "\n",
       "        <iframe\n",
       "            width=\"100%\"\n",
       "            height=\"500px\"\n",
       "            src=\"m_2.html\"\n",
       "            frameborder=\"0\"\n",
       "            allowfullscreen\n",
       "        ></iframe>\n",
       "        "
      ],
      "text/plain": [
       "<IPython.lib.display.IFrame at 0x121569518>"
      ]
     },
     "execution_count": 28,
     "metadata": {},
     "output_type": "execute_result"
    }
   ],
   "source": [
    "# Create a map\n",
    "m_2 = folium.Map(location=[42.32,-71.0589], tiles='cartodbpositron', zoom_start=13)\n",
    "\n",
    "# Add points to the map\n",
    "for idx, row in daytime_robberies.iterrows():\n",
    "    Marker([row['Lat'], row['Long']]).add_to(m_2)\n",
    "\n",
    "# Display the map\n",
    "embed_map(m_2, 'm_2.html')"
   ]
  },
  {
   "cell_type": "markdown",
   "metadata": {},
   "source": [
    "## olium.plugins.MarkerCluster\n",
    "If we have a lot of markers to add, `folium.plugins.MarkerCluster()` can help to declutter the map. Each marker is added to a MarkerCluster object."
   ]
  },
  {
   "cell_type": "code",
   "execution_count": 31,
   "metadata": {},
   "outputs": [
    {
     "data": {
      "text/html": [
       "\n",
       "        <iframe\n",
       "            width=\"100%\"\n",
       "            height=\"500px\"\n",
       "            src=\"m_3.html\"\n",
       "            frameborder=\"0\"\n",
       "            allowfullscreen\n",
       "        ></iframe>\n",
       "        "
      ],
      "text/plain": [
       "<IPython.lib.display.IFrame at 0x121535b70>"
      ]
     },
     "execution_count": 31,
     "metadata": {},
     "output_type": "execute_result"
    }
   ],
   "source": [
    "# Create the map\n",
    "m_3 = folium.Map(location=[42.32,-71.0589], tiles='cartodbpositron', zoom_start=13)\n",
    "\n",
    "# Add points to the map\n",
    "mc = MarkerCluster()\n",
    "for idx, row in daytime_robberies.iterrows():\n",
    "    if not math.isnan(row['Long']) and not math.isnan(row['Lat']):\n",
    "        mc.add_child(Marker([row['Lat'], row['Long']]))\n",
    "m_3.add_child(mc)\n",
    "\n",
    "# Display the map\n",
    "embed_map(m_3, 'm_3.html')"
   ]
  },
  {
   "cell_type": "markdown",
   "metadata": {},
   "source": [
    "### Bubble maps\n",
    "A bubble map uses circles instead of markers. By varying the size and color of each circle, we can also show the relationship between location and two other variables.\n",
    "\n",
    "We create a bubble map by using `folium.Circle()` to iteratively add circles. In the code cell below, robberies that occurred in hours 9-12 are plotted in green, whereas robberies from hours 13-17 are plotted in red."
   ]
  },
  {
   "cell_type": "code",
   "execution_count": 33,
   "metadata": {},
   "outputs": [
    {
     "data": {
      "text/html": [
       "\n",
       "        <iframe\n",
       "            width=\"100%\"\n",
       "            height=\"500px\"\n",
       "            src=\"m_4.html\"\n",
       "            frameborder=\"0\"\n",
       "            allowfullscreen\n",
       "        ></iframe>\n",
       "        "
      ],
      "text/plain": [
       "<IPython.lib.display.IFrame at 0x1310c4c18>"
      ]
     },
     "execution_count": 33,
     "metadata": {},
     "output_type": "execute_result"
    }
   ],
   "source": [
    "# Create a base map\n",
    "m_4 = folium.Map(location=[42.32,-71.0589], tiles='cartodbpositron', zoom_start=13)\n",
    "\n",
    "def color_producer(val):\n",
    "    if val <= 12:\n",
    "        return 'forestgreen'\n",
    "    else:\n",
    "        return 'darkred'\n",
    "\n",
    "# Add a bubble map to the base map\n",
    "for i in range(0,len(daytime_robberies)):\n",
    "    Circle(\n",
    "        location=[daytime_robberies.iloc[i]['Lat'], daytime_robberies.iloc[i]['Long']],\n",
    "        radius=20,\n",
    "        color=color_producer(daytime_robberies.iloc[i]['HOUR'])).add_to(m_4)\n",
    "\n",
    "# Display the map\n",
    "embed_map(m_4, 'm_4.html')"
   ]
  },
  {
   "cell_type": "markdown",
   "metadata": {},
   "source": [
    "Note that `folium.Circle()` takes several arguments:\n",
    "\n",
    "- `location` is a list containing the center of the circle, in latitude and longitude.\n",
    "- `radius` sets the radius of the circle.\n",
    " - Note that in a traditional bubble map, the radius of each circle is allowed to vary. We can implement this by defining a function similar to the `color_producer()` function that is used to vary the color of each circle.\n",
    "color sets the color of each circle.\n",
    "- The `color_producer()` function is used to visualize the effect of the hour on robbery location."
   ]
  },
  {
   "cell_type": "markdown",
   "metadata": {},
   "source": [
    "## Heatmaps\n",
    "To create a heatmap, we use `folium.plugins.HeatMap()`. This shows the density of crime in different areas of the city, where red areas have relatively more criminal incidents.\n",
    "\n",
    "As we'd expect for a big city, most of the crime happens near the center."
   ]
  },
  {
   "cell_type": "code",
   "execution_count": 35,
   "metadata": {
    "scrolled": true
   },
   "outputs": [
    {
     "data": {
      "text/html": [
       "\n",
       "        <iframe\n",
       "            width=\"100%\"\n",
       "            height=\"500px\"\n",
       "            src=\"m_5.html\"\n",
       "            frameborder=\"0\"\n",
       "            allowfullscreen\n",
       "        ></iframe>\n",
       "        "
      ],
      "text/plain": [
       "<IPython.lib.display.IFrame at 0x1310c41d0>"
      ]
     },
     "execution_count": 35,
     "metadata": {},
     "output_type": "execute_result"
    }
   ],
   "source": [
    "# Create a base map\n",
    "m_5 = folium.Map(location=[42.32,-71.0589], tiles='cartodbpositron', zoom_start=12)\n",
    "\n",
    "# Add a heatmap to the base map\n",
    "HeatMap(data=crimes[['Lat', 'Long']], radius=10).add_to(m_5)\n",
    "\n",
    "# Display the map\n",
    "embed_map(m_5, 'm_5.html')"
   ]
  },
  {
   "cell_type": "markdown",
   "metadata": {},
   "source": [
    "As you can see in the code cell above, `folium.plugins.HeatMap()` takes a couple of arguments:\n",
    "\n",
    "- `data` is a DataFrame containing the locations that we'd like to plot.\n",
    "- `radius` controls the smoothness of the heatmap. Higher values make the heatmap look smoother (i.e., with fewer gaps)."
   ]
  },
  {
   "cell_type": "markdown",
   "metadata": {},
   "source": [
    "### Choropleth maps\n",
    "To understand how crime varies by police district, we'll create a choropleth map.\n",
    "\n",
    "As a first step, we create a GeoDataFrame where each district is assigned a different row, and the \"geometry\" column contains the geographical boundaries."
   ]
  },
  {
   "cell_type": "code",
   "execution_count": 36,
   "metadata": {},
   "outputs": [
    {
     "data": {
      "text/html": [
       "<div>\n",
       "<style scoped>\n",
       "    .dataframe tbody tr th:only-of-type {\n",
       "        vertical-align: middle;\n",
       "    }\n",
       "\n",
       "    .dataframe tbody tr th {\n",
       "        vertical-align: top;\n",
       "    }\n",
       "\n",
       "    .dataframe thead th {\n",
       "        text-align: right;\n",
       "    }\n",
       "</style>\n",
       "<table border=\"1\" class=\"dataframe\">\n",
       "  <thead>\n",
       "    <tr style=\"text-align: right;\">\n",
       "      <th></th>\n",
       "      <th>geometry</th>\n",
       "    </tr>\n",
       "    <tr>\n",
       "      <th>DISTRICT</th>\n",
       "      <th></th>\n",
       "    </tr>\n",
       "  </thead>\n",
       "  <tbody>\n",
       "    <tr>\n",
       "      <th>A15</th>\n",
       "      <td>MULTIPOLYGON (((-71.07416 42.39051, -71.07415 ...</td>\n",
       "    </tr>\n",
       "    <tr>\n",
       "      <th>A7</th>\n",
       "      <td>MULTIPOLYGON (((-70.99644 42.39557, -70.99644 ...</td>\n",
       "    </tr>\n",
       "    <tr>\n",
       "      <th>A1</th>\n",
       "      <td>POLYGON ((-71.05200 42.36884, -71.05169 42.368...</td>\n",
       "    </tr>\n",
       "    <tr>\n",
       "      <th>C6</th>\n",
       "      <td>POLYGON ((-71.04406 42.35403, -71.04412 42.353...</td>\n",
       "    </tr>\n",
       "    <tr>\n",
       "      <th>D4</th>\n",
       "      <td>POLYGON ((-71.07416 42.35724, -71.07359 42.357...</td>\n",
       "    </tr>\n",
       "  </tbody>\n",
       "</table>\n",
       "</div>"
      ],
      "text/plain": [
       "                                                   geometry\n",
       "DISTRICT                                                   \n",
       "A15       MULTIPOLYGON (((-71.07416 42.39051, -71.07415 ...\n",
       "A7        MULTIPOLYGON (((-70.99644 42.39557, -70.99644 ...\n",
       "A1        POLYGON ((-71.05200 42.36884, -71.05169 42.368...\n",
       "C6        POLYGON ((-71.04406 42.35403, -71.04412 42.353...\n",
       "D4        POLYGON ((-71.07416 42.35724, -71.07359 42.357..."
      ]
     },
     "execution_count": 36,
     "metadata": {},
     "output_type": "execute_result"
    }
   ],
   "source": [
    "# GeoDataFrame with geographical boundaries of Boston police districts\n",
    "districts_full = gpd.read_file('geospatial-learn-course-data/Police_Districts/Police_Districts/Police_Districts.shp')\n",
    "districts = districts_full[[\"DISTRICT\", \"geometry\"]].set_index(\"DISTRICT\")\n",
    "districts.head()"
   ]
  },
  {
   "cell_type": "markdown",
   "metadata": {},
   "source": [
    "We also create a Pandas Series called `plot_dict` that shows the number of crimes in each district."
   ]
  },
  {
   "cell_type": "code",
   "execution_count": 45,
   "metadata": {},
   "outputs": [
    {
     "data": {
      "text/plain": [
       "D4     2885\n",
       "B2     2231\n",
       "A1     2130\n",
       "C11    1899\n",
       "B3     1421\n",
       "C6     1289\n",
       "D14     892\n",
       "E13     831\n",
       "E18     684\n",
       "A7      630\n",
       "Name: DISTRICT, dtype: int64"
      ]
     },
     "execution_count": 45,
     "metadata": {},
     "output_type": "execute_result"
    }
   ],
   "source": [
    "# Number of crimes in each police district\n",
    "plot_dict = crimes.DISTRICT.value_counts()\n",
    "plot_dict.head(10)"
   ]
  },
  {
   "cell_type": "markdown",
   "metadata": {},
   "source": [
    "It's very important that `plot_dict` has the same index as `districts` - this is how the code knows how to match the geographical boundaries with appropriate colors.\n",
    "\n",
    "Using the `folium.Choropleth()` class, we can create a choropleth map."
   ]
  },
  {
   "cell_type": "code",
   "execution_count": 48,
   "metadata": {},
   "outputs": [
    {
     "data": {
      "text/html": [
       "\n",
       "        <iframe\n",
       "            width=\"100%\"\n",
       "            height=\"500px\"\n",
       "            src=\"m_6.html\"\n",
       "            frameborder=\"0\"\n",
       "            allowfullscreen\n",
       "        ></iframe>\n",
       "        "
      ],
      "text/plain": [
       "<IPython.lib.display.IFrame at 0x12557eef0>"
      ]
     },
     "execution_count": 48,
     "metadata": {},
     "output_type": "execute_result"
    }
   ],
   "source": [
    "# Create a base map\n",
    "m_6 = folium.Map(location=[42.32,-71.0589], tiles='cartodbpositron', zoom_start=12)\n",
    "\n",
    "# Add a choropleth map to the base map\n",
    "Choropleth(geo_data=districts.__geo_interface__, \n",
    "           data=plot_dict, \n",
    "           key_on=\"feature.id\", \n",
    "           fill_color='YlGnBu', \n",
    "           legend_name='Major criminal incidents (Jan-Aug 2018)'\n",
    "          ).add_to(m_6)\n",
    "\n",
    "# Display the map\n",
    "embed_map(m_6, 'm_6.html')"
   ]
  },
  {
   "cell_type": "markdown",
   "metadata": {},
   "source": [
    "Note that `folium.Choropleth()` takes several arguments:\n",
    "\n",
    "- `geo_data` is a GeoJSON FeatureCollection containing the boundaries of each geographical area.\n",
    "- In the code above, we convert the districts `GeoDataFrame` to a <a href=\"https://en.wikipedia.org/wiki/GeoJSON\">GeoJSON FeatureCollection</a> with the `__geo_interface__`attribute.\n",
    "- `data` is a Pandas Series containing the values that will be used to color-code each geographical area.\n",
    "- `key_on` will always be set to `feature.id`.\n",
    "    - This refers to the fact that the GeoDataFrame used for `geo_data` and the Pandas Series provided in `data` have the same index. To understand the details, we'd have to look more closely at the structure of a GeoJSON Feature Collection (where the value corresponding to the \"features\" key is a list, wherein each entry is a dictionary containing an \"id\" key).\n",
    "- `fill_color` sets the color scale.\n",
    "- `legend_name` labels the legend in the top right corner of the map."
   ]
  },
  {
   "cell_type": "markdown",
   "metadata": {},
   "source": [
    "## Great Job"
   ]
  },
  {
   "cell_type": "code",
   "execution_count": null,
   "metadata": {},
   "outputs": [],
   "source": []
  }
 ],
 "metadata": {
  "kernelspec": {
   "display_name": "Python 3",
   "language": "python",
   "name": "python3"
  },
  "language_info": {
   "codemirror_mode": {
    "name": "ipython",
    "version": 3
   },
   "file_extension": ".py",
   "mimetype": "text/x-python",
   "name": "python",
   "nbconvert_exporter": "python",
   "pygments_lexer": "ipython3",
   "version": "3.7.3"
  }
 },
 "nbformat": 4,
 "nbformat_minor": 2
}
